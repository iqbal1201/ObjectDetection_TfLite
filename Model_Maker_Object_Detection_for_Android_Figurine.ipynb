{
  "cells": [
    {
      "cell_type": "markdown",
      "metadata": {
        "id": "QpsBWYBBUYWH"
      },
      "source": [
        "<a href=\"https://colab.research.google.com/github/khanhlvg/tflite_raspberry_pi/blob/main/object_detection/Train_custom_model_tutorial.ipynb\" target=\"_parent\"><img src=\"https://colab.research.google.com/assets/colab-badge.svg\" alt=\"Open In Colab\"/></a>"
      ]
    },
    {
      "cell_type": "markdown",
      "metadata": {
        "id": "gf2if_fGDaWc"
      },
      "source": [
        "##### Copyright 2021 The TensorFlow Authors."
      ]
    },
    {
      "cell_type": "code",
      "execution_count": null,
      "metadata": {
        "cellView": "form",
        "id": "jrmj83afDJrv"
      },
      "outputs": [],
      "source": [
        "#@title Licensed under the Apache License, Version 2.0 (the \"License\");\n",
        "# you may not use this file except in compliance with the License.\n",
        "# You may obtain a copy of the License at\n",
        "#\n",
        "# https://www.apache.org/licenses/LICENSE-2.0\n",
        "#\n",
        "# Unless required by applicable law or agreed to in writing, software\n",
        "# distributed under the License is distributed on an \"AS IS\" BASIS,\n",
        "# WITHOUT WARRANTIES OR CONDITIONS OF ANY KIND, either express or implied.\n",
        "# See the License for the specific language governing permissions and\n",
        "# limitations under the License."
      ]
    },
    {
      "cell_type": "markdown",
      "metadata": {
        "id": "PpJEzDG6DK2Q"
      },
      "source": [
        "# Train a custom object detection model with TensorFlow Lite Model Maker\n",
        "\n",
        "In this colab notebook, you'll learn how to use the [TensorFlow Lite Model Maker](https://www.tensorflow.org/lite/guide/model_maker) to train a custom object detection model to detect Android figurines and how to put the model on a Raspberry Pi.\n",
        "\n",
        "The Model Maker library uses *transfer learning* to simplify the process of training a TensorFlow Lite model using a custom dataset. Retraining a TensorFlow Lite model with your own custom dataset reduces the amount of training data required and will shorten the training time.\n"
      ]
    },
    {
      "cell_type": "markdown",
      "metadata": {
        "id": "BRYjtwRZGBOI"
      },
      "source": [
        "## Preparation\n",
        "\n",
        "### Install and import the required packages\n",
        "Start by installing the required packages, including the Model Maker package from the [GitHub repo](https://github.com/tensorflow/examples/tree/master/tensorflow_examples/lite/model_maker) and the pycocotools library you'll use for evaluation."
      ]
    },
    {
      "cell_type": "markdown",
      "metadata": {
        "id": "prQ86DdtD317"
      },
      "source": [
        "Import the required packages."
      ]
    },
    {
      "cell_type": "code",
      "execution_count": 1,
      "metadata": {
        "id": "l4QQTXHHATDS"
      },
      "outputs": [
        {
          "name": "stderr",
          "output_type": "stream",
          "text": [
            "/home/mjanuadi/anaconda3/envs/image-dl/lib/python3.9/site-packages/tensorflow_addons/utils/tfa_eol_msg.py:23: UserWarning: \n",
            "\n",
            "TensorFlow Addons (TFA) has ended development and introduction of new features.\n",
            "TFA has entered a minimal maintenance and release mode until a planned end of life in May 2024.\n",
            "Please modify downstream libraries to take dependencies from other repositories in our TensorFlow community (e.g. Keras, Keras-CV, and Keras-NLP). \n",
            "\n",
            "For more information see: https://github.com/tensorflow/addons/issues/2807 \n",
            "\n",
            "  warnings.warn(\n",
            "/home/mjanuadi/anaconda3/envs/image-dl/lib/python3.9/site-packages/tensorflow_addons/utils/ensure_tf_install.py:53: UserWarning: Tensorflow Addons supports using Python ops for all Tensorflow versions above or equal to 2.13.0 and strictly below 2.16.0 (nightly versions are not supported). \n",
            " The versions of TensorFlow you are currently using is 2.8.4 and is not supported. \n",
            "Some things might work, some things might not.\n",
            "If you were to encounter a bug, do not file an issue.\n",
            "If you want to make sure you're using a tested and supported configuration, either change the TensorFlow version or the TensorFlow Addons's version. \n",
            "You can find the compatibility matrix in TensorFlow Addon's readme:\n",
            "https://github.com/tensorflow/addons\n",
            "  warnings.warn(\n"
          ]
        }
      ],
      "source": [
        "import numpy as np\n",
        "import os\n",
        "\n",
        "from tflite_model_maker.config import ExportFormat, QuantizationConfig\n",
        "from tflite_model_maker import model_spec\n",
        "from tflite_model_maker import object_detector\n",
        "\n",
        "from tflite_support import metadata\n",
        "\n",
        "import tensorflow as tf\n",
        "assert tf.__version__.startswith('2')\n",
        "\n",
        "tf.get_logger().setLevel('ERROR')\n",
        "from absl import logging\n",
        "logging.set_verbosity(logging.ERROR)"
      ]
    },
    {
      "cell_type": "markdown",
      "metadata": {
        "id": "3g6aQvXsD78P"
      },
      "source": [
        "### Prepare the dataset\n",
        "\n",
        "This dataset contains about 70 images of 2 type of Android figurines: an Android and an Android pig. This is an example image from the dataset.\n",
        "\n",
        "![android_figurine_sample.jpg](https://storage.googleapis.com/download.tensorflow.org/example_images/android_figurine_sample.jpg)\n",
        "\n",
        "We start with downloading the dataset."
      ]
    },
    {
      "cell_type": "markdown",
      "metadata": {
        "id": "Yxh3KInCFeB-"
      },
      "source": [
        "## Train the object detection model\n",
        "\n",
        "### Step 1: Load the dataset\n",
        "\n",
        "* Images in `train_data` is used to train the custom object detection model.\n",
        "* Images in `val_data` is used to check if the model can generalize well to new images that it hasn't seen before."
      ]
    },
    {
      "cell_type": "code",
      "execution_count": 2,
      "metadata": {
        "id": "WiAahdsQAdT7"
      },
      "outputs": [],
      "source": [
        "train_data = object_detector.DataLoader.from_pascal_voc(\n",
        "    '/home/mjanuadi/ObjectDetection/data/train',\n",
        "    '/home/mjanuadi/ObjectDetection/data/train',\n",
        "    ['android', 'pig_android']\n",
        ")\n",
        "\n",
        "val_data = object_detector.DataLoader.from_pascal_voc(\n",
        "    '/home/mjanuadi/ObjectDetection/data/validate',\n",
        "    '/home/mjanuadi/ObjectDetection/data/validate',\n",
        "    ['android', 'pig_android']\n",
        ")"
      ]
    },
    {
      "cell_type": "markdown",
      "metadata": {
        "id": "UNRhB8N7GHXj"
      },
      "source": [
        "### Step 2: Select a model architecture\n",
        "\n",
        "EfficientDet-Lite[0-4] are a family of mobile/IoT-friendly object detection models derived from the [EfficientDet](https://arxiv.org/abs/1911.09070) architecture.\n",
        "\n",
        "Here is the performance of each EfficientDet-Lite models compared to each others.\n",
        "\n",
        "| Model architecture | Size(MB)* | Latency(ms)** | Average Precision*** |\n",
        "|--------------------|-----------|---------------|----------------------|\n",
        "| EfficientDet-Lite0 | 4.4       | 146           | 25.69%               |\n",
        "| EfficientDet-Lite1 | 5.8       | 259           | 30.55%               |\n",
        "| EfficientDet-Lite2 | 7.2       | 396           | 33.97%               |\n",
        "| EfficientDet-Lite3 | 11.4      | 716           | 37.70%               |\n",
        "| EfficientDet-Lite4 | 19.9      | 1886          | 41.96%               |\n",
        "\n",
        "<i> * Size of the integer quantized models. <br/>\n",
        "** Latency measured on Raspberry Pi 4 using 4 threads on CPU. <br/>\n",
        "*** Average Precision is the mAP (mean Average Precision) on the COCO 2017 validation dataset.\n",
        "</i>\n",
        "\n",
        "In this notebook, we use EfficientDet-Lite2 to train our model. You can choose other model architectures depending on whether speed or accuracy is more important to you."
      ]
    },
    {
      "cell_type": "code",
      "execution_count": 9,
      "metadata": {
        "id": "GZOojrDHAY1J"
      },
      "outputs": [],
      "source": [
        "spec = model_spec.get('efficientdet_lite2')"
      ]
    },
    {
      "cell_type": "markdown",
      "metadata": {
        "id": "5aeDU4mIM4ft"
      },
      "source": [
        "### Step 3: Train the TensorFlow model with the training data.\n",
        "\n",
        "* Set `epochs = 20`, which means it will go through the training dataset 20 times. You can look at the validation accuracy during training and stop when you see validation loss (`val_loss`) stop decreasing to avoid overfitting.\n",
        "* Set `batch_size = 4` here so you will see that it takes 15 steps to go through the 62 images in the training dataset.\n",
        "* Set `train_whole_model=True` to fine-tune the whole model instead of just training the head layer to improve accuracy. The trade-off is that it may take longer to train the model."
      ]
    },
    {
      "cell_type": "code",
      "execution_count": 10,
      "metadata": {
        "colab": {
          "base_uri": "https://localhost:8080/"
        },
        "id": "_MClfpsJAfda",
        "outputId": "cbfc9772-a3c7-4f60-a7af-a6032de27d2f"
      },
      "outputs": [
        {
          "name": "stdout",
          "output_type": "stream",
          "text": [
            "Epoch 1/20\n",
            "15/15 [==============================] - 36s 710ms/step - det_loss: 1.7052 - cls_loss: 1.1357 - box_loss: 0.0114 - reg_l2_loss: 0.0759 - loss: 1.7811 - learning_rate: 0.0065 - gradient_norm: 1.9117 - val_det_loss: 1.5254 - val_cls_loss: 1.0837 - val_box_loss: 0.0088 - val_reg_l2_loss: 0.0759 - val_loss: 1.6013\n",
            "Epoch 2/20\n",
            "15/15 [==============================] - 10s 650ms/step - det_loss: 1.4417 - cls_loss: 1.0384 - box_loss: 0.0081 - reg_l2_loss: 0.0759 - loss: 1.5176 - learning_rate: 0.0049 - gradient_norm: 2.8482 - val_det_loss: 1.2784 - val_cls_loss: 0.8999 - val_box_loss: 0.0076 - val_reg_l2_loss: 0.0759 - val_loss: 1.3543\n",
            "Epoch 3/20\n",
            "15/15 [==============================] - 7s 504ms/step - det_loss: 1.1840 - cls_loss: 0.8436 - box_loss: 0.0068 - reg_l2_loss: 0.0759 - loss: 1.2599 - learning_rate: 0.0048 - gradient_norm: 3.6448 - val_det_loss: 0.9682 - val_cls_loss: 0.6518 - val_box_loss: 0.0063 - val_reg_l2_loss: 0.0759 - val_loss: 1.0441\n",
            "Epoch 4/20\n",
            "15/15 [==============================] - 8s 540ms/step - det_loss: 0.8405 - cls_loss: 0.6006 - box_loss: 0.0048 - reg_l2_loss: 0.0759 - loss: 0.9164 - learning_rate: 0.0046 - gradient_norm: 2.5913 - val_det_loss: 0.7923 - val_cls_loss: 0.5443 - val_box_loss: 0.0050 - val_reg_l2_loss: 0.0759 - val_loss: 0.8682\n",
            "Epoch 5/20\n",
            "15/15 [==============================] - 9s 614ms/step - det_loss: 0.6895 - cls_loss: 0.4882 - box_loss: 0.0040 - reg_l2_loss: 0.0759 - loss: 0.7654 - learning_rate: 0.0043 - gradient_norm: 3.0395 - val_det_loss: 0.6635 - val_cls_loss: 0.4437 - val_box_loss: 0.0044 - val_reg_l2_loss: 0.0759 - val_loss: 0.7394\n",
            "Epoch 6/20\n",
            "15/15 [==============================] - 6s 392ms/step - det_loss: 0.6264 - cls_loss: 0.4483 - box_loss: 0.0036 - reg_l2_loss: 0.0759 - loss: 0.7023 - learning_rate: 0.0040 - gradient_norm: 3.2642 - val_det_loss: 0.5645 - val_cls_loss: 0.3888 - val_box_loss: 0.0035 - val_reg_l2_loss: 0.0759 - val_loss: 0.6404\n",
            "Epoch 7/20\n",
            "15/15 [==============================] - 7s 448ms/step - det_loss: 0.5324 - cls_loss: 0.3950 - box_loss: 0.0027 - reg_l2_loss: 0.0759 - loss: 0.6083 - learning_rate: 0.0037 - gradient_norm: 2.8272 - val_det_loss: 0.5327 - val_cls_loss: 0.3556 - val_box_loss: 0.0035 - val_reg_l2_loss: 0.0759 - val_loss: 0.6087\n",
            "Epoch 8/20\n",
            "15/15 [==============================] - 6s 407ms/step - det_loss: 0.4787 - cls_loss: 0.3508 - box_loss: 0.0026 - reg_l2_loss: 0.0759 - loss: 0.5546 - learning_rate: 0.0033 - gradient_norm: 2.7113 - val_det_loss: 0.4388 - val_cls_loss: 0.3038 - val_box_loss: 0.0027 - val_reg_l2_loss: 0.0759 - val_loss: 0.5148\n",
            "Epoch 9/20\n",
            "15/15 [==============================] - 6s 435ms/step - det_loss: 0.4798 - cls_loss: 0.3535 - box_loss: 0.0025 - reg_l2_loss: 0.0759 - loss: 0.5558 - learning_rate: 0.0029 - gradient_norm: 3.8541 - val_det_loss: 0.3878 - val_cls_loss: 0.2739 - val_box_loss: 0.0023 - val_reg_l2_loss: 0.0759 - val_loss: 0.4638\n",
            "Epoch 10/20\n",
            "15/15 [==============================] - 7s 491ms/step - det_loss: 0.4032 - cls_loss: 0.3054 - box_loss: 0.0020 - reg_l2_loss: 0.0759 - loss: 0.4791 - learning_rate: 0.0025 - gradient_norm: 2.4060 - val_det_loss: 0.3904 - val_cls_loss: 0.2791 - val_box_loss: 0.0022 - val_reg_l2_loss: 0.0759 - val_loss: 0.4663\n",
            "Epoch 11/20\n",
            "15/15 [==============================] - 6s 392ms/step - det_loss: 0.3979 - cls_loss: 0.2996 - box_loss: 0.0020 - reg_l2_loss: 0.0759 - loss: 0.4738 - learning_rate: 0.0021 - gradient_norm: 2.3780 - val_det_loss: 0.3378 - val_cls_loss: 0.2486 - val_box_loss: 0.0018 - val_reg_l2_loss: 0.0759 - val_loss: 0.4137\n",
            "Epoch 12/20\n",
            "15/15 [==============================] - 6s 390ms/step - det_loss: 0.3596 - cls_loss: 0.2778 - box_loss: 0.0016 - reg_l2_loss: 0.0759 - loss: 0.4356 - learning_rate: 0.0017 - gradient_norm: 2.0916 - val_det_loss: 0.3303 - val_cls_loss: 0.2458 - val_box_loss: 0.0017 - val_reg_l2_loss: 0.0759 - val_loss: 0.4062\n",
            "Epoch 13/20\n",
            "15/15 [==============================] - 6s 439ms/step - det_loss: 0.3625 - cls_loss: 0.2894 - box_loss: 0.0015 - reg_l2_loss: 0.0759 - loss: 0.4385 - learning_rate: 0.0013 - gradient_norm: 2.1477 - val_det_loss: 0.3188 - val_cls_loss: 0.2414 - val_box_loss: 0.0015 - val_reg_l2_loss: 0.0759 - val_loss: 0.3948\n",
            "Epoch 14/20\n",
            "15/15 [==============================] - 6s 405ms/step - det_loss: 0.3170 - cls_loss: 0.2450 - box_loss: 0.0014 - reg_l2_loss: 0.0759 - loss: 0.3929 - learning_rate: 9.6772e-04 - gradient_norm: 1.5850 - val_det_loss: 0.3074 - val_cls_loss: 0.2335 - val_box_loss: 0.0015 - val_reg_l2_loss: 0.0759 - val_loss: 0.3834\n",
            "Epoch 15/20\n",
            "15/15 [==============================] - 7s 480ms/step - det_loss: 0.3467 - cls_loss: 0.2640 - box_loss: 0.0017 - reg_l2_loss: 0.0759 - loss: 0.4227 - learning_rate: 6.6413e-04 - gradient_norm: 2.0003 - val_det_loss: 0.3010 - val_cls_loss: 0.2292 - val_box_loss: 0.0014 - val_reg_l2_loss: 0.0759 - val_loss: 0.3769\n",
            "Epoch 16/20\n",
            "15/15 [==============================] - 6s 383ms/step - det_loss: 0.3433 - cls_loss: 0.2674 - box_loss: 0.0015 - reg_l2_loss: 0.0759 - loss: 0.4193 - learning_rate: 4.1061e-04 - gradient_norm: 2.4378 - val_det_loss: 0.2936 - val_cls_loss: 0.2258 - val_box_loss: 0.0014 - val_reg_l2_loss: 0.0759 - val_loss: 0.3696\n",
            "Epoch 17/20\n",
            "15/15 [==============================] - 6s 395ms/step - det_loss: 0.3470 - cls_loss: 0.2646 - box_loss: 0.0016 - reg_l2_loss: 0.0759 - loss: 0.4229 - learning_rate: 2.1409e-04 - gradient_norm: 2.4172 - val_det_loss: 0.2872 - val_cls_loss: 0.2229 - val_box_loss: 0.0013 - val_reg_l2_loss: 0.0759 - val_loss: 0.3631\n",
            "Epoch 18/20\n",
            "15/15 [==============================] - 7s 443ms/step - det_loss: 0.3324 - cls_loss: 0.2534 - box_loss: 0.0016 - reg_l2_loss: 0.0759 - loss: 0.4083 - learning_rate: 7.9920e-05 - gradient_norm: 1.9624 - val_det_loss: 0.2851 - val_cls_loss: 0.2218 - val_box_loss: 0.0013 - val_reg_l2_loss: 0.0759 - val_loss: 0.3610\n",
            "Epoch 19/20\n",
            "15/15 [==============================] - 6s 431ms/step - det_loss: 0.3071 - cls_loss: 0.2389 - box_loss: 0.0014 - reg_l2_loss: 0.0759 - loss: 0.3830 - learning_rate: 1.1764e-05 - gradient_norm: 1.7198 - val_det_loss: 0.2847 - val_cls_loss: 0.2220 - val_box_loss: 0.0013 - val_reg_l2_loss: 0.0759 - val_loss: 0.3606\n",
            "Epoch 20/20\n",
            "15/15 [==============================] - 7s 482ms/step - det_loss: 0.3088 - cls_loss: 0.2389 - box_loss: 0.0014 - reg_l2_loss: 0.0759 - loss: 0.3847 - learning_rate: 1.1480e-05 - gradient_norm: 2.3044 - val_det_loss: 0.2844 - val_cls_loss: 0.2220 - val_box_loss: 0.0012 - val_reg_l2_loss: 0.0759 - val_loss: 0.3604\n"
          ]
        }
      ],
      "source": [
        "model = object_detector.create(train_data, model_spec=spec, batch_size=4, train_whole_model=True, epochs=20, validation_data=val_data)"
      ]
    },
    {
      "cell_type": "markdown",
      "metadata": {
        "id": "KB4hKeerMmh4"
      },
      "source": [
        "### Step 4. Evaluate the model with the validation data.\n",
        "\n",
        "After training the object detection model using the images in the training dataset, use the 10 images in the validation dataset to evaluate how the model performs against new data it has never seen before.\n",
        "\n",
        "As the default batch size is 64, it will take 1 step to go through the 10 images in the validation dataset.\n",
        "\n",
        "The evaluation metrics are same as [COCO](https://cocodataset.org/#detection-eval)."
      ]
    },
    {
      "cell_type": "code",
      "execution_count": 11,
      "metadata": {
        "colab": {
          "base_uri": "https://localhost:8080/"
        },
        "id": "OUqEpcYwAg8L",
        "outputId": "b359dc94-4906-4b5b-e022-77030b7a122f"
      },
      "outputs": [
        {
          "name": "stdout",
          "output_type": "stream",
          "text": [
            "1/1 [==============================] - 5s 5s/step\n",
            "\n"
          ]
        },
        {
          "data": {
            "text/plain": [
              "{'AP': 0.8732703,\n",
              " 'AP50': 1.0,\n",
              " 'AP75': 1.0,\n",
              " 'APs': -1.0,\n",
              " 'APm': -1.0,\n",
              " 'APl': 0.8732703,\n",
              " 'ARmax1': 0.8875,\n",
              " 'ARmax10': 0.8875,\n",
              " 'ARmax100': 0.8875,\n",
              " 'ARs': -1.0,\n",
              " 'ARm': -1.0,\n",
              " 'ARl': 0.8875,\n",
              " 'AP_/android': 0.86110324,\n",
              " 'AP_/pig_android': 0.8854373}"
            ]
          },
          "execution_count": 11,
          "metadata": {},
          "output_type": "execute_result"
        }
      ],
      "source": [
        "model.evaluate(val_data)"
      ]
    },
    {
      "cell_type": "markdown",
      "metadata": {
        "id": "NARVYk9rGLIl"
      },
      "source": [
        "### Step 5: Export as a TensorFlow Lite model.\n",
        "\n",
        "Export the trained object detection model to the TensorFlow Lite format by specifying which folder you want to export the quantized model to. The default post-training quantization technique is [full integer quantization](https://www.tensorflow.org/lite/performance/post_training_integer_quant). This allows the TensorFlow Lite model to be smaller, run faster on Raspberry Pi CPU and also compatible with the Google Coral EdgeTPU."
      ]
    },
    {
      "cell_type": "code",
      "execution_count": 12,
      "metadata": {
        "id": "_u3eFxoBAiqE"
      },
      "outputs": [
        {
          "name": "stderr",
          "output_type": "stream",
          "text": [
            "2024-04-11 11:37:18.754915: W tensorflow/core/common_runtime/graph_constructor.cc:803] Node 'resample_p7/PartitionedCall' has 1 outputs but the _output_shapes attribute specifies shapes for 3 outputs. Output shapes may be inaccurate.\n"
          ]
        },
        {
          "name": "stdout",
          "output_type": "stream",
          "text": [
            "Estimated count of arithmetic ops: 6.066 G  ops, equivalently 3.033 G  MACs\n"
          ]
        },
        {
          "name": "stderr",
          "output_type": "stream",
          "text": [
            "2024-04-11 11:37:26.258604: W tensorflow/compiler/mlir/lite/python/tf_tfl_flatbuffer_helpers.cc:357] Ignored output_format.\n",
            "2024-04-11 11:37:26.258674: W tensorflow/compiler/mlir/lite/python/tf_tfl_flatbuffer_helpers.cc:360] Ignored drop_control_dependency.\n",
            "2024-04-11 11:37:26.258973: I tensorflow/cc/saved_model/reader.cc:43] Reading SavedModel from: /tmp/tmpoye1eii0\n",
            "2024-04-11 11:37:26.335696: I tensorflow/cc/saved_model/reader.cc:78] Reading meta graph with tags { serve }\n",
            "2024-04-11 11:37:26.335734: I tensorflow/cc/saved_model/reader.cc:119] Reading SavedModel debug info (if present) from: /tmp/tmpoye1eii0\n",
            "2024-04-11 11:37:26.619057: I tensorflow/cc/saved_model/loader.cc:228] Restoring SavedModel bundle.\n",
            "2024-04-11 11:37:29.178144: I tensorflow/cc/saved_model/loader.cc:212] Running initialization op on SavedModel bundle at path: /tmp/tmpoye1eii0\n",
            "2024-04-11 11:37:30.225242: I tensorflow/cc/saved_model/loader.cc:301] SavedModel load for tags { serve }; Status: success: OK. Took 3966285 microseconds.\n",
            "2024-04-11 11:37:33.680618: I tensorflow/compiler/mlir/lite/flatbuffer_export.cc:1963] Estimated count of arithmetic ops: 6.066 G  ops, equivalently 3.033 G  MACs\n",
            "\n"
          ]
        },
        {
          "name": "stdout",
          "output_type": "stream",
          "text": [
            "Estimated count of arithmetic ops: 6.066 G  ops, equivalently 3.033 G  MACs\n"
          ]
        },
        {
          "name": "stderr",
          "output_type": "stream",
          "text": [
            "fully_quantize: 0, inference_type: 6, input_inference_type: 3, output_inference_type: 0\n",
            "2024-04-11 11:38:01.816463: I tensorflow/compiler/mlir/lite/flatbuffer_export.cc:1963] Estimated count of arithmetic ops: 6.066 G  ops, equivalently 3.033 G  MACs\n",
            "\n"
          ]
        }
      ],
      "source": [
        "model.export(export_dir='.', tflite_filename='android.tflite')"
      ]
    },
    {
      "cell_type": "markdown",
      "metadata": {
        "id": "JZcBmEigOCO3"
      },
      "source": [
        "### Step 6:  Evaluate the TensorFlow Lite model.\n",
        "\n",
        "Several factors can affect the model accuracy when exporting to TFLite:\n",
        "* [Quantization](https://www.tensorflow.org/lite/performance/model_optimization) helps shrinking the model size by 4 times at the expense of some accuracy drop.\n",
        "* The original TensorFlow model uses per-class [non-max supression (NMS)](https://www.coursera.org/lecture/convolutional-neural-networks/non-max-suppression-dvrjH) for post-processing, while the TFLite model uses global NMS that's much faster but less accurate.\n",
        "Keras outputs maximum 100 detections while tflite outputs maximum 25 detections.\n",
        "\n",
        "Therefore you'll have to evaluate the exported TFLite model and compare its accuracy with the original TensorFlow model."
      ]
    },
    {
      "cell_type": "code",
      "execution_count": 13,
      "metadata": {
        "colab": {
          "base_uri": "https://localhost:8080/"
        },
        "id": "Jbl8z9_wBPlr",
        "outputId": "a0893077-28d8-4362-89f2-d5197222ac79"
      },
      "outputs": [
        {
          "name": "stderr",
          "output_type": "stream",
          "text": [
            "INFO: Created TensorFlow Lite XNNPACK delegate for CPU.\n"
          ]
        },
        {
          "name": "stdout",
          "output_type": "stream",
          "text": [
            "10/10 [==============================] - 40s 4s/step\n",
            "\n"
          ]
        },
        {
          "data": {
            "text/plain": [
              "{'AP': 0.8498762,\n",
              " 'AP50': 1.0,\n",
              " 'AP75': 1.0,\n",
              " 'APs': -1.0,\n",
              " 'APm': -1.0,\n",
              " 'APl': 0.8498762,\n",
              " 'ARmax1': 0.85833335,\n",
              " 'ARmax10': 0.85833335,\n",
              " 'ARmax100': 0.85833335,\n",
              " 'ARs': -1.0,\n",
              " 'ARm': -1.0,\n",
              " 'ARl': 0.85833335,\n",
              " 'AP_/android': 0.8379538,\n",
              " 'AP_/pig_android': 0.8617987}"
            ]
          },
          "execution_count": 13,
          "metadata": {},
          "output_type": "execute_result"
        }
      ],
      "source": [
        "model.evaluate_tflite('android.tflite', val_data)"
      ]
    }
  ],
  "metadata": {
    "accelerator": "GPU",
    "colab": {
      "name": "Model Maker Object Detection for Android Figurine",
      "provenance": []
    },
    "kernelspec": {
      "display_name": "Python 3",
      "name": "python3"
    },
    "language_info": {
      "codemirror_mode": {
        "name": "ipython",
        "version": 3
      },
      "file_extension": ".py",
      "mimetype": "text/x-python",
      "name": "python",
      "nbconvert_exporter": "python",
      "pygments_lexer": "ipython3",
      "version": "3.9.19"
    }
  },
  "nbformat": 4,
  "nbformat_minor": 0
}
